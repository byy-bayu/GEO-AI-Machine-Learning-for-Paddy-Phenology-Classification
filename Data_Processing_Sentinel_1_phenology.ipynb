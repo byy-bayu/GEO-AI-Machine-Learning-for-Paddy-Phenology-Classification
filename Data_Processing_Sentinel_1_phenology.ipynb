{
  "cells": [
    {
      "cell_type": "markdown",
      "metadata": {
        "id": "view-in-github",
        "colab_type": "text"
      },
      "source": [
        "<a href=\"https://colab.research.google.com/github/byy-bayu/GEO-AI-Machine-Learning-for-Paddy-Phenology-Classification/blob/main/Data_Processing_Sentinel_1_phenology.ipynb\" target=\"_parent\"><img src=\"https://colab.research.google.com/assets/colab-badge.svg\" alt=\"Open In Colab\"/></a>"
      ]
    },
    {
      "cell_type": "markdown",
      "metadata": {
        "id": "DoybZw9PQvh4"
      },
      "source": [
        "# Data Processing Sentinel-1: Ekstraksi Nilai Piksel Sentinel-1 dari Asset GEE"
      ]
    },
    {
      "cell_type": "markdown",
      "metadata": {
        "id": "JNBNBLmZRMt1"
      },
      "source": [
        "**Kode ini dirancang untuk:**\n",
        "\n",
        "\n",
        "\n",
        "*  Mengambil citra Sentinel-1 dari koleksi aset GEE\n",
        "*  Memuat titik sampel yang digunakan sebagai area ekstraksi data\n",
        "*  Menyesuaikan tipe data citra (dari UnsignedInt16 ke Float) dan mengekstrak nilai rata-rata piksel dalam setiap titik sample\n",
        "*  Menyimpan hasil ekstraksi ke dalam CSV dan Shapefile sebagai input training data pada machine learning\n",
        "\n",
        "\n",
        "\n",
        "\n",
        "\n",
        "\n"
      ]
    },
    {
      "cell_type": "markdown",
      "metadata": {
        "id": "gj2B1Fx228Wx"
      },
      "source": [
        "### Import Library"
      ]
    },
    {
      "cell_type": "code",
      "execution_count": null,
      "metadata": {
        "id": "k8L_3GJ49aw3",
        "colab": {
          "base_uri": "https://localhost:8080/",
          "height": 17
        },
        "outputId": "2d4410bb-cd9c-4acf-a98d-d4beac1e2b97"
      },
      "outputs": [
        {
          "output_type": "display_data",
          "data": {
            "text/plain": [
              "<IPython.core.display.HTML object>"
            ],
            "text/html": [
              "\n",
              "            <style>\n",
              "                .geemap-dark {\n",
              "                    --jp-widgets-color: white;\n",
              "                    --jp-widgets-label-color: white;\n",
              "                    --jp-ui-font-color1: white;\n",
              "                    --jp-layout-color2: #454545;\n",
              "                    background-color: #383838;\n",
              "                }\n",
              "\n",
              "                .geemap-dark .jupyter-button {\n",
              "                    --jp-layout-color3: #383838;\n",
              "                }\n",
              "\n",
              "                .geemap-colab {\n",
              "                    background-color: var(--colab-primary-surface-color, white);\n",
              "                }\n",
              "\n",
              "                .geemap-colab .jupyter-button {\n",
              "                    --jp-layout-color3: var(--colab-primary-surface-color, white);\n",
              "                }\n",
              "            </style>\n",
              "            "
            ]
          },
          "metadata": {}
        }
      ],
      "source": [
        "import ee\n",
        "import geemap\n",
        "import geopandas as gpd\n",
        "import pandas as pd\n",
        "from google.colab import drive"
      ]
    },
    {
      "cell_type": "markdown",
      "metadata": {
        "id": "3FxD1YGB-GJ7"
      },
      "source": [
        "### Autentikasi Cloud dan Project GEE\n",
        "\n",
        "\n"
      ]
    },
    {
      "cell_type": "code",
      "execution_count": null,
      "metadata": {
        "colab": {
          "base_uri": "https://localhost:8080/"
        },
        "id": "cibXJ2TCuXC_",
        "outputId": "cf584a5e-dfe8-4b2e-bcec-3d5d72d87005"
      },
      "outputs": [
        {
          "output_type": "display_data",
          "data": {
            "text/plain": [
              "<IPython.core.display.HTML object>"
            ],
            "text/html": [
              "\n",
              "            <style>\n",
              "                .geemap-dark {\n",
              "                    --jp-widgets-color: white;\n",
              "                    --jp-widgets-label-color: white;\n",
              "                    --jp-ui-font-color1: white;\n",
              "                    --jp-layout-color2: #454545;\n",
              "                    background-color: #383838;\n",
              "                }\n",
              "\n",
              "                .geemap-dark .jupyter-button {\n",
              "                    --jp-layout-color3: #383838;\n",
              "                }\n",
              "\n",
              "                .geemap-colab {\n",
              "                    background-color: var(--colab-primary-surface-color, white);\n",
              "                }\n",
              "\n",
              "                .geemap-colab .jupyter-button {\n",
              "                    --jp-layout-color3: var(--colab-primary-surface-color, white);\n",
              "                }\n",
              "            </style>\n",
              "            "
            ]
          },
          "metadata": {}
        }
      ],
      "source": [
        "# Authenticate to Earth Engine.\n",
        "ee.Authenticate()\n",
        "\n",
        "# Initialize the library.\n",
        "ee.Initialize(project='ee-bayuardianto104')"
      ]
    },
    {
      "cell_type": "code",
      "execution_count": null,
      "metadata": {
        "id": "4CcZzHkiqYFI",
        "colab": {
          "base_uri": "https://localhost:8080/"
        },
        "outputId": "1cf1e154-c1ed-461e-a659-20837143dad9"
      },
      "outputs": [
        {
          "output_type": "display_data",
          "data": {
            "text/plain": [
              "<IPython.core.display.HTML object>"
            ],
            "text/html": [
              "\n",
              "            <style>\n",
              "                .geemap-dark {\n",
              "                    --jp-widgets-color: white;\n",
              "                    --jp-widgets-label-color: white;\n",
              "                    --jp-ui-font-color1: white;\n",
              "                    --jp-layout-color2: #454545;\n",
              "                    background-color: #383838;\n",
              "                }\n",
              "\n",
              "                .geemap-dark .jupyter-button {\n",
              "                    --jp-layout-color3: #383838;\n",
              "                }\n",
              "\n",
              "                .geemap-colab {\n",
              "                    background-color: var(--colab-primary-surface-color, white);\n",
              "                }\n",
              "\n",
              "                .geemap-colab .jupyter-button {\n",
              "                    --jp-layout-color3: var(--colab-primary-surface-color, white);\n",
              "                }\n",
              "            </style>\n",
              "            "
            ]
          },
          "metadata": {}
        },
        {
          "output_type": "stream",
          "name": "stdout",
          "text": [
            "Drive already mounted at /content/drive; to attempt to forcibly remount, call drive.mount(\"/content/drive\", force_remount=True).\n"
          ]
        }
      ],
      "source": [
        "from google.colab import drive\n",
        "drive.mount('/content/drive')"
      ]
    },
    {
      "cell_type": "markdown",
      "metadata": {
        "id": "nhLrs8QAJVDM"
      },
      "source": [
        "### Load Dataset Citra dan titik Sample"
      ]
    },
    {
      "cell_type": "code",
      "execution_count": null,
      "metadata": {
        "id": "WDSBmrLv2h4I",
        "colab": {
          "base_uri": "https://localhost:8080/"
        },
        "outputId": "33ce86de-5327-4a30-ef99-bfd8b28ef7d5"
      },
      "outputs": [
        {
          "output_type": "display_data",
          "data": {
            "text/plain": [
              "<IPython.core.display.HTML object>"
            ],
            "text/html": [
              "\n",
              "            <style>\n",
              "                .geemap-dark {\n",
              "                    --jp-widgets-color: white;\n",
              "                    --jp-widgets-label-color: white;\n",
              "                    --jp-ui-font-color1: white;\n",
              "                    --jp-layout-color2: #454545;\n",
              "                    background-color: #383838;\n",
              "                }\n",
              "\n",
              "                .geemap-dark .jupyter-button {\n",
              "                    --jp-layout-color3: #383838;\n",
              "                }\n",
              "\n",
              "                .geemap-colab {\n",
              "                    background-color: var(--colab-primary-surface-color, white);\n",
              "                }\n",
              "\n",
              "                .geemap-colab .jupyter-button {\n",
              "                    --jp-layout-color3: var(--colab-primary-surface-color, white);\n",
              "                }\n",
              "            </style>\n",
              "            "
            ]
          },
          "metadata": {}
        }
      ],
      "source": [
        "# Load dataset ImageCollection\n",
        "imageCollection = ee.ImageCollection('projects/ee-bayuardianto104/assets/Dataset_S1_ARD_Indramayu_2024')\n",
        "\n",
        "# Load titik sampel (shapefile) dari penyimpanan Google Drive\n",
        "shapefile_path = '/content/drive/MyDrive/Research/shp/LBS/training_phenology_data_2024.shp'\n",
        "gdf = gpd.read_file(shapefile_path)"
      ]
    },
    {
      "cell_type": "code",
      "execution_count": null,
      "metadata": {
        "collapsed": true,
        "id": "lGBI-GIlFn_p",
        "colab": {
          "base_uri": "https://localhost:8080/"
        },
        "outputId": "44caad80-23c0-49f7-9d90-3476021797ba"
      },
      "outputs": [
        {
          "output_type": "display_data",
          "data": {
            "text/plain": [
              "<IPython.core.display.HTML object>"
            ],
            "text/html": [
              "\n",
              "            <style>\n",
              "                .geemap-dark {\n",
              "                    --jp-widgets-color: white;\n",
              "                    --jp-widgets-label-color: white;\n",
              "                    --jp-ui-font-color1: white;\n",
              "                    --jp-layout-color2: #454545;\n",
              "                    background-color: #383838;\n",
              "                }\n",
              "\n",
              "                .geemap-dark .jupyter-button {\n",
              "                    --jp-layout-color3: #383838;\n",
              "                }\n",
              "\n",
              "                .geemap-colab {\n",
              "                    background-color: var(--colab-primary-surface-color, white);\n",
              "                }\n",
              "\n",
              "                .geemap-colab .jupyter-button {\n",
              "                    --jp-layout-color3: var(--colab-primary-surface-color, white);\n",
              "                }\n",
              "            </style>\n",
              "            "
            ]
          },
          "metadata": {}
        },
        {
          "output_type": "stream",
          "name": "stdout",
          "text": [
            "    A_Foto A_Tgl_Kunj A_Tgl_Tana  A_Hst         A_Jenis_La     A_Varietas  \\\n",
            "0   Foto 1  29-Jan-24  17-Jan-24     12      Sawah Irigasi       Ciherang   \n",
            "1   Foto 1  29-Jan-24  17-Jan-24     12      Sawah Irigasi       Ciherang   \n",
            "2   Foto 1  26-Jan-24  11-Jan-24     15      Sawah Irigasi       Ciherang   \n",
            "3   Foto 1  26-Jan-24  11-Jan-24     15      Sawah Irigasi       Ciherang   \n",
            "4   Foto 1  23-Jan-24  11-Jan-24     12      Sawah Irigasi       Ciherang   \n",
            "5   Foto 1  24-Jun-24  12-Jun-24     12      Sawah Irigasi  Inpari 32 HDB   \n",
            "6   Foto 1  24-Jun-24  10-Jun-24     14      Sawah Irigasi  Inpari 32 HDB   \n",
            "7   Foto 1  23-Jul-24  15-Jul-24      8      Sawah Irigasi  Inpari 32 HDB   \n",
            "8   Foto 1  19-Jul-24  12-Jul-24      7      Sawah Irigasi  Inpari 32 HDB   \n",
            "9   Foto 1  19-Jul-24   5-Jul-24     14      Sawah Irigasi  Inpari 32 HDB   \n",
            "10  Foto 1  22-May-24  28-Mar-24     55      Sawah Irigasi      Lain-lain   \n",
            "11  Foto 1  22-May-24  28-Mar-24     55      Sawah Irigasi      Lain-lain   \n",
            "12  Foto 1  22-May-24  28-Mar-24     55      Sawah Irigasi      Lain-lain   \n",
            "13  Foto 1   2-Oct-24  28-Aug-24     35      Sawah Irigasi      Lain-lain   \n",
            "14  Foto 1   2-Oct-24  28-Aug-24     35      Sawah Irigasi      Lain-lain   \n",
            "15  Foto 1   5-Feb-24  26-Jan-24     10      Sawah Irigasi  Inpari 32 HDB   \n",
            "16  Foto 1   5-Feb-24  26-Jan-24     10      Sawah Irigasi  Inpari 32 HDB   \n",
            "17  Foto 1   5-Feb-24  26-Jan-24     10      Sawah Irigasi  Inpari 32 HDB   \n",
            "18  Foto 1   5-Feb-24  26-Jan-24     10      Sawah Irigasi  Inpari 32 HDB   \n",
            "19  Foto 1   5-Feb-24  26-Jan-24     10      Sawah Irigasi  Inpari 32 HDB   \n",
            "20  Foto 1   5-Feb-24  26-Jan-24     10      Sawah Irigasi  Inpari 32 HDB   \n",
            "21  Foto 1   5-Feb-24  26-Jan-24     10      Sawah Irigasi  Inpari 32 HDB   \n",
            "22  Foto 1   5-Feb-24  26-Jan-24     10      Sawah Irigasi  Inpari 32 HDB   \n",
            "23  Foto 1  23-Jul-24  16-Jul-24      7  Sawah Tadah Hujan  Inpari 32 HDB   \n",
            "24  Foto 1  28-May-24   8-May-24     20  Sawah Tadah Hujan  Inpari 32 HDB   \n",
            "25  Foto 1  22-Feb-24  15-Feb-24      7      Sawah Irigasi  Inpari 32 HDB   \n",
            "26  Foto 1  22-Feb-24  15-Feb-24      7      Sawah Irigasi  Inpari 32 HDB   \n",
            "27  Foto 1  22-Feb-24  15-Feb-24      7      Sawah Irigasi  Inpari 32 HDB   \n",
            "28  Foto 1  22-Feb-24  15-Feb-24      7      Sawah Irigasi  Inpari 32 HDB   \n",
            "29  Foto 1  25-Jun-24   5-Jun-24     20      Sawah Irigasi       Ciherang   \n",
            "30  Foto 1  25-Jun-24   5-Jun-24     20      Sawah Irigasi       Ciherang   \n",
            "31  Foto 1  25-Jun-24   5-Jun-24     20      Sawah Irigasi       Ciherang   \n",
            "32  Foto 1  25-Jun-24   5-Jun-24     20      Sawah Irigasi       Ciherang   \n",
            "33  Foto 1  25-Jun-24   5-Jun-24     20      Sawah Irigasi       Ciherang   \n",
            "34  Foto 1  25-Jun-24   5-Jun-24     20      Sawah Irigasi       Ciherang   \n",
            "35  Foto 1  25-Jun-24   5-Jun-24     20      Sawah Irigasi       Ciherang   \n",
            "36  Foto 1  25-Jun-24   5-Jun-24     20      Sawah Irigasi       Ciherang   \n",
            "37  Foto 1  25-Jun-24   5-Jun-24     20      Sawah Irigasi       Ciherang   \n",
            "\n",
            "    A_Kecamata     A_Lat       A_Lng Bulan  sampel                    geometry  \n",
            "0      ANJATAN -6.378206  107.935239   Jan       1  POINT (107.93524 -6.37821)  \n",
            "1      ANJATAN -6.405388  107.901713   Jan       1  POINT (107.90171 -6.40539)  \n",
            "2      ANJATAN -6.333015  107.936703   Jan       2   POINT (107.9367 -6.33301)  \n",
            "3      ANJATAN -6.333293  107.934797   Jan       2   POINT (107.9348 -6.33329)  \n",
            "4      ANJATAN -6.346200  107.967392   Jan       3   POINT (107.96739 -6.3462)  \n",
            "5      ANJATAN -6.408058  107.967501   Jun       3   POINT (107.9675 -6.40806)  \n",
            "6      ANJATAN -6.407452  107.970197   Jun       3   POINT (107.9702 -6.40745)  \n",
            "7      ANJATAN -6.335806  107.934208   Jul       4  POINT (107.93421 -6.33581)  \n",
            "8      ANJATAN -6.386203  107.938590   Jul       5   POINT (107.93859 -6.3862)  \n",
            "9      ANJATAN -6.405043  107.901466   Jul       5  POINT (107.90147 -6.40504)  \n",
            "10   KRANGKENG -6.495563  108.471829   Mar       6  POINT (108.47183 -6.49556)  \n",
            "11   KRANGKENG -6.495562  108.471830   Mar       6  POINT (108.47183 -6.49556)  \n",
            "12   KRANGKENG -6.495562  108.471830   Mar       6  POINT (108.47183 -6.49556)  \n",
            "13   KRANGKENG -6.295347  108.318846   Aug       7  POINT (108.31885 -6.29535)  \n",
            "14   KRANGKENG -6.295240  108.318714   Aug       7  POINT (108.31871 -6.29524)  \n",
            "15      PATROL -6.355276  107.999118   Jan      10  POINT (107.99912 -6.35528)  \n",
            "16      PATROL -6.355276  107.999118   Jan      10  POINT (107.99912 -6.35528)  \n",
            "17      PATROL -6.334973  108.007852   Jan      10  POINT (108.00785 -6.33497)  \n",
            "18      PATROL -6.335043  108.007490   Jan      10  POINT (108.00749 -6.33504)  \n",
            "19      PATROL -6.335013  108.007814   Jan      10  POINT (108.00781 -6.33501)  \n",
            "20      PATROL -6.335031  108.007651   Jan      10  POINT (108.00765 -6.33503)  \n",
            "21      PATROL -6.335041  108.007587   Jan      10  POINT (108.00759 -6.33504)  \n",
            "22      PATROL -6.355545  107.999584   Jan      10  POINT (107.99958 -6.35554)  \n",
            "23       LELEA -6.497684  108.216003   Jul      11    POINT (108.216 -6.49768)  \n",
            "24      TERISI -6.535550  108.125809   May      12  POINT (108.12581 -6.53555)  \n",
            "25       LELEA -6.453887  108.198120   Feb      14  POINT (108.19812 -6.45389)  \n",
            "26       LELEA -6.450416  108.220085   Feb      14  POINT (108.22009 -6.45042)  \n",
            "27       LELEA -6.451545  108.229934   Feb      14  POINT (108.22993 -6.45154)  \n",
            "28       LELEA -6.443081  108.244885   Feb      14  POINT (108.24489 -6.44308)  \n",
            "29  JUNTINYUAT -6.438945  108.404717   Jun      15  POINT (108.40472 -6.43894)  \n",
            "30  JUNTINYUAT -6.438945  108.404717   Jun      15  POINT (108.40472 -6.43894)  \n",
            "31  JUNTINYUAT -6.438945  108.404717   Jun      15  POINT (108.40472 -6.43894)  \n",
            "32  JUNTINYUAT -6.438945  108.404717   Jun      15  POINT (108.40472 -6.43894)  \n",
            "33  JUNTINYUAT -6.438945  108.404717   Jun      15  POINT (108.40472 -6.43894)  \n",
            "34  JUNTINYUAT -6.438945  108.404717   Jun      15  POINT (108.40472 -6.43894)  \n",
            "35  JUNTINYUAT -6.438945  108.404717   Jun      15  POINT (108.40472 -6.43894)  \n",
            "36  JUNTINYUAT -6.438945  108.404717   Jun      15  POINT (108.40472 -6.43894)  \n",
            "37  JUNTINYUAT -6.438945  108.404717   Jun      15  POINT (108.40472 -6.43894)  \n"
          ]
        }
      ],
      "source": [
        "print(gdf)"
      ]
    },
    {
      "cell_type": "markdown",
      "metadata": {
        "id": "HJQxlykWGhIN"
      },
      "source": [
        "### Fungsi Ekstraksi Nilai Piksel per Titik\n",
        "\n",
        "\n",
        "\n"
      ]
    },
    {
      "cell_type": "code",
      "execution_count": null,
      "metadata": {
        "id": "n6rtUfSR5o_v",
        "colab": {
          "base_uri": "https://localhost:8080/",
          "height": 17
        },
        "outputId": "bc10f993-d28f-4a5c-fe60-ae42b2b3f692"
      },
      "outputs": [
        {
          "output_type": "display_data",
          "data": {
            "text/plain": [
              "<IPython.core.display.HTML object>"
            ],
            "text/html": [
              "\n",
              "            <style>\n",
              "                .geemap-dark {\n",
              "                    --jp-widgets-color: white;\n",
              "                    --jp-widgets-label-color: white;\n",
              "                    --jp-ui-font-color1: white;\n",
              "                    --jp-layout-color2: #454545;\n",
              "                    background-color: #383838;\n",
              "                }\n",
              "\n",
              "                .geemap-dark .jupyter-button {\n",
              "                    --jp-layout-color3: #383838;\n",
              "                }\n",
              "\n",
              "                .geemap-colab {\n",
              "                    background-color: var(--colab-primary-surface-color, white);\n",
              "                }\n",
              "\n",
              "                .geemap-colab .jupyter-button {\n",
              "                    --jp-layout-color3: var(--colab-primary-surface-color, white);\n",
              "                }\n",
              "            </style>\n",
              "            "
            ]
          },
          "metadata": {}
        }
      ],
      "source": [
        "# Konversi GeoDataFrame ke FeatureCollection Earth Engine\n",
        "def gdf_to_ee_feature_collection(gdf):\n",
        "    features = []\n",
        "    for _, row in gdf.iterrows():\n",
        "        geom = row.geometry\n",
        "        if geom.geom_type == 'Point':\n",
        "            ee_geom = ee.Geometry.Point(geom.x, geom.y)\n",
        "        elif geom.geom_type == 'MultiPoint':\n",
        "            ee_geom = ee.Geometry.MultiPoint([ee.Geometry.Point(coord) for coord in geom.coords])\n",
        "        else:\n",
        "            raise ValueError(\"Geometry type not supported. Only Point and MultiPoint are supported.\")\n",
        "        feature = ee.Feature(ee_geom, row.drop('geometry').to_dict())\n",
        "        features.append(feature)\n",
        "    return ee.FeatureCollection(features)"
      ]
    },
    {
      "cell_type": "code",
      "execution_count": null,
      "metadata": {
        "id": "Nc5sdr9yFHD3",
        "colab": {
          "base_uri": "https://localhost:8080/",
          "height": 17
        },
        "outputId": "d0688e55-f81c-41b0-b007-d943ba7b0352"
      },
      "outputs": [
        {
          "output_type": "display_data",
          "data": {
            "text/plain": [
              "<IPython.core.display.HTML object>"
            ],
            "text/html": [
              "\n",
              "            <style>\n",
              "                .geemap-dark {\n",
              "                    --jp-widgets-color: white;\n",
              "                    --jp-widgets-label-color: white;\n",
              "                    --jp-ui-font-color1: white;\n",
              "                    --jp-layout-color2: #454545;\n",
              "                    background-color: #383838;\n",
              "                }\n",
              "\n",
              "                .geemap-dark .jupyter-button {\n",
              "                    --jp-layout-color3: #383838;\n",
              "                }\n",
              "\n",
              "                .geemap-colab {\n",
              "                    background-color: var(--colab-primary-surface-color, white);\n",
              "                }\n",
              "\n",
              "                .geemap-colab .jupyter-button {\n",
              "                    --jp-layout-color3: var(--colab-primary-surface-color, white);\n",
              "                }\n",
              "            </style>\n",
              "            "
            ]
          },
          "metadata": {}
        }
      ],
      "source": [
        "# Fungsi untuk mengonversi citra ke float\n",
        "def convert_to_float_and_scale(image):\n",
        "    image_float = image.toFloat()\n",
        "    image_scaled = image_float.divide(1000)\n",
        "    # Salin properti metadata\n",
        "    image_scaled = image_scaled.copyProperties(image, ['system:time_start', 'date'])\n",
        "    return image_scaled"
      ]
    },
    {
      "cell_type": "code",
      "execution_count": null,
      "metadata": {
        "colab": {
          "base_uri": "https://localhost:8080/",
          "height": 17
        },
        "id": "IRg-NGa9dR78",
        "outputId": "38ef2ae7-25cf-4cf4-d44a-709787db1e33"
      },
      "outputs": [
        {
          "output_type": "display_data",
          "data": {
            "text/plain": [
              "<IPython.core.display.HTML object>"
            ],
            "text/html": [
              "\n",
              "            <style>\n",
              "                .geemap-dark {\n",
              "                    --jp-widgets-color: white;\n",
              "                    --jp-widgets-label-color: white;\n",
              "                    --jp-ui-font-color1: white;\n",
              "                    --jp-layout-color2: #454545;\n",
              "                    background-color: #383838;\n",
              "                }\n",
              "\n",
              "                .geemap-dark .jupyter-button {\n",
              "                    --jp-layout-color3: #383838;\n",
              "                }\n",
              "\n",
              "                .geemap-colab {\n",
              "                    background-color: var(--colab-primary-surface-color, white);\n",
              "                }\n",
              "\n",
              "                .geemap-colab .jupyter-button {\n",
              "                    --jp-layout-color3: var(--colab-primary-surface-color, white);\n",
              "                }\n",
              "            </style>\n",
              "            "
            ]
          },
          "metadata": {}
        }
      ],
      "source": [
        "# Terapkan fungsi konversi ke seluruh ImageCollection\n",
        "imageCollection = imageCollection.map(convert_to_float_and_scale)"
      ]
    },
    {
      "cell_type": "code",
      "execution_count": null,
      "metadata": {
        "colab": {
          "base_uri": "https://localhost:8080/",
          "height": 17
        },
        "id": "AHB8L2qAz5-_",
        "outputId": "3cc3c00f-bbed-4564-adb8-f98f784d9c26"
      },
      "outputs": [
        {
          "output_type": "display_data",
          "data": {
            "text/plain": [
              "<IPython.core.display.HTML object>"
            ],
            "text/html": [
              "\n",
              "            <style>\n",
              "                .geemap-dark {\n",
              "                    --jp-widgets-color: white;\n",
              "                    --jp-widgets-label-color: white;\n",
              "                    --jp-ui-font-color1: white;\n",
              "                    --jp-layout-color2: #454545;\n",
              "                    background-color: #383838;\n",
              "                }\n",
              "\n",
              "                .geemap-dark .jupyter-button {\n",
              "                    --jp-layout-color3: #383838;\n",
              "                }\n",
              "\n",
              "                .geemap-colab {\n",
              "                    background-color: var(--colab-primary-surface-color, white);\n",
              "                }\n",
              "\n",
              "                .geemap-colab .jupyter-button {\n",
              "                    --jp-layout-color3: var(--colab-primary-surface-color, white);\n",
              "                }\n",
              "            </style>\n",
              "            "
            ]
          },
          "metadata": {}
        }
      ],
      "source": [
        "# Fungsi untuk buffer titik\n",
        "def buffer_points(feature_collection, radius):\n",
        "    def buffer_feature(feature):\n",
        "        # Get the geometry from the feature and apply buffer\n",
        "        buffered_geometry = feature.geometry().buffer(radius)\n",
        "        # Return a new feature with the buffered geometry and same properties\n",
        "        return ee.Feature(buffered_geometry, feature.toDictionary())\n",
        "\n",
        "    # Map the buffer function to each feature in the collection\n",
        "    buffered_features = feature_collection.map(buffer_feature)\n",
        "    return buffered_features"
      ]
    },
    {
      "cell_type": "code",
      "execution_count": null,
      "metadata": {
        "colab": {
          "base_uri": "https://localhost:8080/",
          "height": 17
        },
        "id": "G3_smLUAz-oy",
        "outputId": "50134f22-23cf-4d4e-fa98-7eeecb56bb27"
      },
      "outputs": [
        {
          "output_type": "display_data",
          "data": {
            "text/plain": [
              "<IPython.core.display.HTML object>"
            ],
            "text/html": [
              "\n",
              "            <style>\n",
              "                .geemap-dark {\n",
              "                    --jp-widgets-color: white;\n",
              "                    --jp-widgets-label-color: white;\n",
              "                    --jp-ui-font-color1: white;\n",
              "                    --jp-layout-color2: #454545;\n",
              "                    background-color: #383838;\n",
              "                }\n",
              "\n",
              "                .geemap-dark .jupyter-button {\n",
              "                    --jp-layout-color3: #383838;\n",
              "                }\n",
              "\n",
              "                .geemap-colab {\n",
              "                    background-color: var(--colab-primary-surface-color, white);\n",
              "                }\n",
              "\n",
              "                .geemap-colab .jupyter-button {\n",
              "                    --jp-layout-color3: var(--colab-primary-surface-color, white);\n",
              "                }\n",
              "            </style>\n",
              "            "
            ]
          },
          "metadata": {}
        }
      ],
      "source": [
        "# Radius buffer dalam meter\n",
        "radius = 0"
      ]
    },
    {
      "cell_type": "code",
      "execution_count": null,
      "metadata": {
        "colab": {
          "base_uri": "https://localhost:8080/",
          "height": 17
        },
        "id": "QtFS5nu20Dp4",
        "outputId": "042864bb-5000-4751-bce6-3da5f5fdf84d"
      },
      "outputs": [
        {
          "output_type": "display_data",
          "data": {
            "text/plain": [
              "<IPython.core.display.HTML object>"
            ],
            "text/html": [
              "\n",
              "            <style>\n",
              "                .geemap-dark {\n",
              "                    --jp-widgets-color: white;\n",
              "                    --jp-widgets-label-color: white;\n",
              "                    --jp-ui-font-color1: white;\n",
              "                    --jp-layout-color2: #454545;\n",
              "                    background-color: #383838;\n",
              "                }\n",
              "\n",
              "                .geemap-dark .jupyter-button {\n",
              "                    --jp-layout-color3: #383838;\n",
              "                }\n",
              "\n",
              "                .geemap-colab {\n",
              "                    background-color: var(--colab-primary-surface-color, white);\n",
              "                }\n",
              "\n",
              "                .geemap-colab .jupyter-button {\n",
              "                    --jp-layout-color3: var(--colab-primary-surface-color, white);\n",
              "                }\n",
              "            </style>\n",
              "            "
            ]
          },
          "metadata": {}
        }
      ],
      "source": [
        "# Fungsi untuk mengekstrak nilai dari area yang di-buffer\n",
        "def extract_values_from_image_collection(image_collection, buffered_features, scale=10):\n",
        "    def extract_values(image):\n",
        "        samples = image.sampleRegions(\n",
        "            collection=buffered_features,\n",
        "            scale=scale,\n",
        "            geometries=True #False\n",
        "        )\n",
        "        date = image.date().format('YYYY-MM-dd')\n",
        "        samples = samples.map(lambda feature: feature.set('date', date))\n",
        "        return samples\n",
        "\n",
        "    extracted_features = image_collection.map(extract_values).flatten()\n",
        "    return extracted_features"
      ]
    },
    {
      "cell_type": "code",
      "execution_count": null,
      "metadata": {
        "colab": {
          "base_uri": "https://localhost:8080/",
          "height": 17
        },
        "id": "o6pVnNR-9S3i",
        "outputId": "89719a06-4a3b-4d18-88a2-a1cb9ce0d7e9"
      },
      "outputs": [
        {
          "output_type": "display_data",
          "data": {
            "text/plain": [
              "<IPython.core.display.HTML object>"
            ],
            "text/html": [
              "\n",
              "            <style>\n",
              "                .geemap-dark {\n",
              "                    --jp-widgets-color: white;\n",
              "                    --jp-widgets-label-color: white;\n",
              "                    --jp-ui-font-color1: white;\n",
              "                    --jp-layout-color2: #454545;\n",
              "                    background-color: #383838;\n",
              "                }\n",
              "\n",
              "                .geemap-dark .jupyter-button {\n",
              "                    --jp-layout-color3: #383838;\n",
              "                }\n",
              "\n",
              "                .geemap-colab {\n",
              "                    background-color: var(--colab-primary-surface-color, white);\n",
              "                }\n",
              "\n",
              "                .geemap-colab .jupyter-button {\n",
              "                    --jp-layout-color3: var(--colab-primary-surface-color, white);\n",
              "                }\n",
              "            </style>\n",
              "            "
            ]
          },
          "metadata": {}
        }
      ],
      "source": [
        "# Bagi titik sampel menjadi kelompok-kelompok kecil\n",
        "def split_gdf(gdf, chunk_size=50):\n",
        "    return [gdf[i:i + chunk_size] for i in range(0, len(gdf), chunk_size)]"
      ]
    },
    {
      "cell_type": "code",
      "execution_count": null,
      "metadata": {
        "colab": {
          "base_uri": "https://localhost:8080/",
          "height": 35
        },
        "id": "RdSWdHKU6bqg",
        "outputId": "df4a871f-bc8c-4d44-ca9d-6341061b45b1"
      },
      "outputs": [
        {
          "output_type": "display_data",
          "data": {
            "text/plain": [
              "<IPython.core.display.HTML object>"
            ],
            "text/html": [
              "\n",
              "            <style>\n",
              "                .geemap-dark {\n",
              "                    --jp-widgets-color: white;\n",
              "                    --jp-widgets-label-color: white;\n",
              "                    --jp-ui-font-color1: white;\n",
              "                    --jp-layout-color2: #454545;\n",
              "                    background-color: #383838;\n",
              "                }\n",
              "\n",
              "                .geemap-dark .jupyter-button {\n",
              "                    --jp-layout-color3: #383838;\n",
              "                }\n",
              "\n",
              "                .geemap-colab {\n",
              "                    background-color: var(--colab-primary-surface-color, white);\n",
              "                }\n",
              "\n",
              "                .geemap-colab .jupyter-button {\n",
              "                    --jp-layout-color3: var(--colab-primary-surface-color, white);\n",
              "                }\n",
              "            </style>\n",
              "            "
            ]
          },
          "metadata": {}
        },
        {
          "output_type": "stream",
          "name": "stdout",
          "text": [
            "Memproses kelompok titik sampel 1 dari 1...\n"
          ]
        }
      ],
      "source": [
        "# Proses ekstraksi untuk setiap kelompok titik sampel\n",
        "all_results = []\n",
        "chunk_size = 50  # Jumlah titik sampel per kelompok\n",
        "gdf_chunks = split_gdf(gdf, chunk_size)\n",
        "\n",
        "for i, chunk in enumerate(gdf_chunks):\n",
        "    print(f\"Memproses kelompok titik sampel {i + 1} dari {len(gdf_chunks)}...\")\n",
        "    ee_feature_collection = gdf_to_ee_feature_collection(chunk)\n",
        "    buffered_features = buffer_points(ee_feature_collection, radius)\n",
        "    extracted_features = extract_values_from_image_collection(imageCollection, ee_feature_collection, scale=10)\n",
        "    extracted_values = extracted_features.getInfo()\n",
        "    features = extracted_values['features']\n",
        "    data = [feat['properties'] for feat in features]\n",
        "    all_results.extend(data)"
      ]
    },
    {
      "cell_type": "code",
      "execution_count": null,
      "metadata": {
        "colab": {
          "base_uri": "https://localhost:8080/",
          "height": 17
        },
        "id": "jOqJOgs3C7lw",
        "outputId": "1427d31e-2c71-4120-859c-ec0630672552"
      },
      "outputs": [
        {
          "output_type": "display_data",
          "data": {
            "text/plain": [
              "<IPython.core.display.HTML object>"
            ],
            "text/html": [
              "\n",
              "            <style>\n",
              "                .geemap-dark {\n",
              "                    --jp-widgets-color: white;\n",
              "                    --jp-widgets-label-color: white;\n",
              "                    --jp-ui-font-color1: white;\n",
              "                    --jp-layout-color2: #454545;\n",
              "                    background-color: #383838;\n",
              "                }\n",
              "\n",
              "                .geemap-dark .jupyter-button {\n",
              "                    --jp-layout-color3: #383838;\n",
              "                }\n",
              "\n",
              "                .geemap-colab {\n",
              "                    background-color: var(--colab-primary-surface-color, white);\n",
              "                }\n",
              "\n",
              "                .geemap-colab .jupyter-button {\n",
              "                    --jp-layout-color3: var(--colab-primary-surface-color, white);\n",
              "                }\n",
              "            </style>\n",
              "            "
            ]
          },
          "metadata": {}
        }
      ],
      "source": [
        "    # Simpan hasil ekstraksi\n",
        "    data = [feat['properties'] for feat in features]\n",
        "    all_results.extend(data)"
      ]
    },
    {
      "cell_type": "code",
      "execution_count": null,
      "metadata": {
        "colab": {
          "base_uri": "https://localhost:8080/",
          "height": 17
        },
        "id": "ZrFer6Vq9WQg",
        "outputId": "cd0ae8d7-300b-4944-b397-d53b882bf825"
      },
      "outputs": [
        {
          "output_type": "display_data",
          "data": {
            "text/plain": [
              "<IPython.core.display.HTML object>"
            ],
            "text/html": [
              "\n",
              "            <style>\n",
              "                .geemap-dark {\n",
              "                    --jp-widgets-color: white;\n",
              "                    --jp-widgets-label-color: white;\n",
              "                    --jp-ui-font-color1: white;\n",
              "                    --jp-layout-color2: #454545;\n",
              "                    background-color: #383838;\n",
              "                }\n",
              "\n",
              "                .geemap-dark .jupyter-button {\n",
              "                    --jp-layout-color3: #383838;\n",
              "                }\n",
              "\n",
              "                .geemap-colab {\n",
              "                    background-color: var(--colab-primary-surface-color, white);\n",
              "                }\n",
              "\n",
              "                .geemap-colab .jupyter-button {\n",
              "                    --jp-layout-color3: var(--colab-primary-surface-color, white);\n",
              "                }\n",
              "            </style>\n",
              "            "
            ]
          },
          "metadata": {}
        }
      ],
      "source": [
        "# Konversi hasil ekstraksi ke pandas DataFrame\n",
        "df = pd.DataFrame(all_results)"
      ]
    },
    {
      "cell_type": "code",
      "execution_count": null,
      "metadata": {
        "colab": {
          "base_uri": "https://localhost:8080/",
          "height": 17
        },
        "id": "SyDsnJpt7Mvd",
        "outputId": "103918f8-320a-48fe-b7f4-140520308386"
      },
      "outputs": [
        {
          "output_type": "display_data",
          "data": {
            "text/plain": [
              "<IPython.core.display.HTML object>"
            ],
            "text/html": [
              "\n",
              "            <style>\n",
              "                .geemap-dark {\n",
              "                    --jp-widgets-color: white;\n",
              "                    --jp-widgets-label-color: white;\n",
              "                    --jp-ui-font-color1: white;\n",
              "                    --jp-layout-color2: #454545;\n",
              "                    background-color: #383838;\n",
              "                }\n",
              "\n",
              "                .geemap-dark .jupyter-button {\n",
              "                    --jp-layout-color3: #383838;\n",
              "                }\n",
              "\n",
              "                .geemap-colab {\n",
              "                    background-color: var(--colab-primary-surface-color, white);\n",
              "                }\n",
              "\n",
              "                .geemap-colab .jupyter-button {\n",
              "                    --jp-layout-color3: var(--colab-primary-surface-color, white);\n",
              "                }\n",
              "            </style>\n",
              "            "
            ]
          },
          "metadata": {}
        }
      ],
      "source": [
        "# Simpan DataFrame ke CSV\n",
        "output_csv_path = '/content/drive/MyDrive/Research/Dataset training data.csv'  # Sesuaikan dengan path yang diinginkan\n",
        "df.to_csv(output_csv_path, index=False)"
      ]
    },
    {
      "cell_type": "code",
      "execution_count": null,
      "metadata": {
        "colab": {
          "base_uri": "https://localhost:8080/",
          "height": 596
        },
        "id": "EcI9dVe-ZPWn",
        "outputId": "400f2e67-8c95-4149-b71f-d3ea0dcad82b"
      },
      "outputs": [
        {
          "output_type": "display_data",
          "data": {
            "text/plain": [
              "<IPython.core.display.HTML object>"
            ],
            "text/html": [
              "\n",
              "            <style>\n",
              "                .geemap-dark {\n",
              "                    --jp-widgets-color: white;\n",
              "                    --jp-widgets-label-color: white;\n",
              "                    --jp-ui-font-color1: white;\n",
              "                    --jp-layout-color2: #454545;\n",
              "                    background-color: #383838;\n",
              "                }\n",
              "\n",
              "                .geemap-dark .jupyter-button {\n",
              "                    --jp-layout-color3: #383838;\n",
              "                }\n",
              "\n",
              "                .geemap-colab {\n",
              "                    background-color: var(--colab-primary-surface-color, white);\n",
              "                }\n",
              "\n",
              "                .geemap-colab .jupyter-button {\n",
              "                    --jp-layout-color3: var(--colab-primary-surface-color, white);\n",
              "                }\n",
              "            </style>\n",
              "            "
            ]
          },
          "metadata": {}
        },
        {
          "output_type": "stream",
          "name": "stdout",
          "text": [
            "File CSV telah disimpan di: /content/drive/MyDrive/Research/Dataset training data.csv\n",
            "Jumlah baris (records): 2656\n",
            "Dimensi DataFrame (baris, kolom): (2656, 19)\n",
            "\n",
            "Informasi kolom:\n",
            "<class 'pandas.core.frame.DataFrame'>\n",
            "RangeIndex: 2656 entries, 0 to 2655\n",
            "Data columns (total 19 columns):\n",
            " #   Column      Non-Null Count  Dtype  \n",
            "---  ------      --------------  -----  \n",
            " 0   API         2656 non-null   float64\n",
            " 1   A_Foto      2656 non-null   object \n",
            " 2   A_Hst       2656 non-null   int64  \n",
            " 3   A_Jenis_La  2656 non-null   object \n",
            " 4   A_Kecamata  2656 non-null   object \n",
            " 5   A_Lat       2656 non-null   float64\n",
            " 6   A_Lng       2656 non-null   float64\n",
            " 7   A_Tgl_Kunj  2656 non-null   object \n",
            " 8   A_Tgl_Tana  2656 non-null   object \n",
            " 9   A_Varietas  2656 non-null   object \n",
            " 10  Bulan       2656 non-null   object \n",
            " 11  NDPI        2656 non-null   float64\n",
            " 12  RPI         2656 non-null   float64\n",
            " 13  RVI         2656 non-null   float64\n",
            " 14  VH_int      2656 non-null   float64\n",
            " 15  VV_int      2656 non-null   float64\n",
            " 16  angle       2656 non-null   float64\n",
            " 17  date        2656 non-null   object \n",
            " 18  sampel      2656 non-null   int64  \n",
            "dtypes: float64(9), int64(2), object(8)\n",
            "memory usage: 394.4+ KB\n",
            "None\n"
          ]
        }
      ],
      "source": [
        "# Menampilkan informasi tentang penyimpanan file\n",
        "print(f\"File CSV telah disimpan di: {output_csv_path}\")\n",
        "\n",
        "# Menampilkan ukuran DataFrame\n",
        "print(f\"Jumlah baris (records): {len(df)}\")\n",
        "print(f\"Dimensi DataFrame (baris, kolom): {df.shape}\")\n",
        "\n",
        "# Menampilkan informasi kolom dan tipe data\n",
        "print(\"\\nInformasi kolom:\")\n",
        "print(df.info())\n",
        "\n",
        "# # Menampilkan statistik deskriptif untuk kolom numerik\n",
        "# print(\"\\nStatistik deskriptif:\")\n",
        "# print(df.describe())"
      ]
    },
    {
      "cell_type": "markdown",
      "metadata": {
        "id": "pmUk1aUDt9XJ"
      },
      "source": [
        "### Fungsi Ekstraksi Nilai Piksel per Titik tanpa buffer\n",
        "\n",
        "\n",
        "\n"
      ]
    },
    {
      "cell_type": "code",
      "execution_count": null,
      "metadata": {
        "colab": {
          "base_uri": "https://localhost:8080/",
          "height": 17
        },
        "outputId": "146e5e84-e70a-4f3e-a140-bc7d595b0370",
        "id": "W863ITzYt9XK"
      },
      "outputs": [
        {
          "output_type": "display_data",
          "data": {
            "text/plain": [
              "<IPython.core.display.HTML object>"
            ],
            "text/html": [
              "\n",
              "            <style>\n",
              "                .geemap-dark {\n",
              "                    --jp-widgets-color: white;\n",
              "                    --jp-widgets-label-color: white;\n",
              "                    --jp-ui-font-color1: white;\n",
              "                    --jp-layout-color2: #454545;\n",
              "                    background-color: #383838;\n",
              "                }\n",
              "\n",
              "                .geemap-dark .jupyter-button {\n",
              "                    --jp-layout-color3: #383838;\n",
              "                }\n",
              "\n",
              "                .geemap-colab {\n",
              "                    background-color: var(--colab-primary-surface-color, white);\n",
              "                }\n",
              "\n",
              "                .geemap-colab .jupyter-button {\n",
              "                    --jp-layout-color3: var(--colab-primary-surface-color, white);\n",
              "                }\n",
              "            </style>\n",
              "            "
            ]
          },
          "metadata": {}
        }
      ],
      "source": [
        "# Konversi GeoDataFrame ke FeatureCollection Earth Engine\n",
        "def gdf_to_ee_feature_collection(gdf):\n",
        "    features = []\n",
        "    for _, row in gdf.iterrows():\n",
        "        geom = row.geometry\n",
        "        if geom.geom_type == 'Point':\n",
        "            ee_geom = ee.Geometry.Point(geom.x, geom.y)\n",
        "        elif geom.geom_type == 'MultiPoint':\n",
        "            ee_geom = ee.Geometry.MultiPoint([ee.Geometry.Point(coord) for coord in geom.coords])\n",
        "        else:\n",
        "            raise ValueError(\"Geometry type not supported. Only Point and MultiPoint are supported.\")\n",
        "        feature = ee.Feature(ee_geom, row.drop('geometry').to_dict())\n",
        "        features.append(feature)\n",
        "    return ee.FeatureCollection(features)"
      ]
    },
    {
      "cell_type": "code",
      "execution_count": null,
      "metadata": {
        "colab": {
          "base_uri": "https://localhost:8080/",
          "height": 17
        },
        "outputId": "909a659b-b056-4c81-db2b-4d48ef22c2a7",
        "id": "CY4J_JQCt9XL"
      },
      "outputs": [
        {
          "output_type": "display_data",
          "data": {
            "text/plain": [
              "<IPython.core.display.HTML object>"
            ],
            "text/html": [
              "\n",
              "            <style>\n",
              "                .geemap-dark {\n",
              "                    --jp-widgets-color: white;\n",
              "                    --jp-widgets-label-color: white;\n",
              "                    --jp-ui-font-color1: white;\n",
              "                    --jp-layout-color2: #454545;\n",
              "                    background-color: #383838;\n",
              "                }\n",
              "\n",
              "                .geemap-dark .jupyter-button {\n",
              "                    --jp-layout-color3: #383838;\n",
              "                }\n",
              "\n",
              "                .geemap-colab {\n",
              "                    background-color: var(--colab-primary-surface-color, white);\n",
              "                }\n",
              "\n",
              "                .geemap-colab .jupyter-button {\n",
              "                    --jp-layout-color3: var(--colab-primary-surface-color, white);\n",
              "                }\n",
              "            </style>\n",
              "            "
            ]
          },
          "metadata": {}
        }
      ],
      "source": [
        "# Fungsi untuk mengonversi citra ke float\n",
        "def convert_to_float_and_scale(image):\n",
        "    image_float = image.toFloat()\n",
        "    image_scaled = image_float.divide(1000)\n",
        "    # Salin properti metadata\n",
        "    image_scaled = image_scaled.copyProperties(image, ['system:time_start', 'date'])\n",
        "    return image_scaled"
      ]
    },
    {
      "cell_type": "code",
      "execution_count": null,
      "metadata": {
        "colab": {
          "base_uri": "https://localhost:8080/",
          "height": 17
        },
        "outputId": "d0216a2a-01bb-4c63-92f7-ff887320adb8",
        "id": "fvGE6iwZt9XM"
      },
      "outputs": [
        {
          "output_type": "display_data",
          "data": {
            "text/plain": [
              "<IPython.core.display.HTML object>"
            ],
            "text/html": [
              "\n",
              "            <style>\n",
              "                .geemap-dark {\n",
              "                    --jp-widgets-color: white;\n",
              "                    --jp-widgets-label-color: white;\n",
              "                    --jp-ui-font-color1: white;\n",
              "                    --jp-layout-color2: #454545;\n",
              "                    background-color: #383838;\n",
              "                }\n",
              "\n",
              "                .geemap-dark .jupyter-button {\n",
              "                    --jp-layout-color3: #383838;\n",
              "                }\n",
              "\n",
              "                .geemap-colab {\n",
              "                    background-color: var(--colab-primary-surface-color, white);\n",
              "                }\n",
              "\n",
              "                .geemap-colab .jupyter-button {\n",
              "                    --jp-layout-color3: var(--colab-primary-surface-color, white);\n",
              "                }\n",
              "            </style>\n",
              "            "
            ]
          },
          "metadata": {}
        }
      ],
      "source": [
        "# Terapkan fungsi konversi ke seluruh ImageCollection\n",
        "imageCollection = imageCollection.map(convert_to_float_and_scale)"
      ]
    },
    {
      "cell_type": "code",
      "execution_count": null,
      "metadata": {
        "colab": {
          "base_uri": "https://localhost:8080/",
          "height": 17
        },
        "outputId": "9704c24c-c572-4170-d556-fc484f956210",
        "id": "RRe6ovxwt9XN"
      },
      "outputs": [
        {
          "output_type": "display_data",
          "data": {
            "text/plain": [
              "<IPython.core.display.HTML object>"
            ],
            "text/html": [
              "\n",
              "            <style>\n",
              "                .geemap-dark {\n",
              "                    --jp-widgets-color: white;\n",
              "                    --jp-widgets-label-color: white;\n",
              "                    --jp-ui-font-color1: white;\n",
              "                    --jp-layout-color2: #454545;\n",
              "                    background-color: #383838;\n",
              "                }\n",
              "\n",
              "                .geemap-dark .jupyter-button {\n",
              "                    --jp-layout-color3: #383838;\n",
              "                }\n",
              "\n",
              "                .geemap-colab {\n",
              "                    background-color: var(--colab-primary-surface-color, white);\n",
              "                }\n",
              "\n",
              "                .geemap-colab .jupyter-button {\n",
              "                    --jp-layout-color3: var(--colab-primary-surface-color, white);\n",
              "                }\n",
              "            </style>\n",
              "            "
            ]
          },
          "metadata": {}
        }
      ],
      "source": [
        "# Fungsi untuk mengekstrak nilai dari titik-titik sampel (tanpa buffer)\n",
        "def extract_values_from_image_collection(image_collection, point_features, scale=10):\n",
        "    def extract_values(image):\n",
        "        # Ekstrak nilai langsung dari titik (tanpa buffer)\n",
        "        samples = image.sampleRegions(\n",
        "            collection=point_features,\n",
        "            scale=scale,\n",
        "            geometries=True  # Menyimpan geometri titik\n",
        "        )\n",
        "        date = image.date().format('YYYY-MM-dd')\n",
        "        samples = samples.map(lambda feature: feature.set('date', date))\n",
        "        return samples\n",
        "\n",
        "    extracted_features = image_collection.map(extract_values).flatten()\n",
        "    return extracted_features"
      ]
    },
    {
      "cell_type": "code",
      "execution_count": null,
      "metadata": {
        "colab": {
          "base_uri": "https://localhost:8080/",
          "height": 17
        },
        "outputId": "8dea0c5c-c60e-4ea5-d50a-17c0cb74b594",
        "id": "JMlmlxXAt9XN"
      },
      "outputs": [
        {
          "output_type": "display_data",
          "data": {
            "text/plain": [
              "<IPython.core.display.HTML object>"
            ],
            "text/html": [
              "\n",
              "            <style>\n",
              "                .geemap-dark {\n",
              "                    --jp-widgets-color: white;\n",
              "                    --jp-widgets-label-color: white;\n",
              "                    --jp-ui-font-color1: white;\n",
              "                    --jp-layout-color2: #454545;\n",
              "                    background-color: #383838;\n",
              "                }\n",
              "\n",
              "                .geemap-dark .jupyter-button {\n",
              "                    --jp-layout-color3: #383838;\n",
              "                }\n",
              "\n",
              "                .geemap-colab {\n",
              "                    background-color: var(--colab-primary-surface-color, white);\n",
              "                }\n",
              "\n",
              "                .geemap-colab .jupyter-button {\n",
              "                    --jp-layout-color3: var(--colab-primary-surface-color, white);\n",
              "                }\n",
              "            </style>\n",
              "            "
            ]
          },
          "metadata": {}
        }
      ],
      "source": [
        "# Bagi titik sampel menjadi kelompok-kelompok kecil untuk menghindari timeout\n",
        "def split_gdf(gdf, chunk_size=50):\n",
        "    return [gdf[i:i + chunk_size] for i in range(0, len(gdf), chunk_size)]"
      ]
    },
    {
      "cell_type": "code",
      "source": [
        "# Proses ekstraksi untuk setiap kelompok titik sampel\n",
        "def extract_all_points(gdf, image_collection, chunk_size=50, scale=10):\n",
        "    all_results = []\n",
        "    gdf_chunks = split_gdf(gdf, chunk_size)\n",
        "\n",
        "    print(f\"Total {len(gdf)} titik sampel akan diproses dalam {len(gdf_chunks)} kelompok\")\n",
        "\n",
        "    for i, chunk in enumerate(tqdm(gdf_chunks, desc=\"Memproses kelompok titik\")):\n",
        "        # Konversi chunk GeoDataFrame ke EE FeatureCollection\n",
        "        ee_feature_collection = gdf_to_ee_feature_collection(chunk)\n",
        "\n",
        "        # Ekstrak nilai langsung dari titik (tanpa buffer)\n",
        "        extracted_features = extract_values_from_image_collection(\n",
        "            image_collection,\n",
        "            ee_feature_collection,\n",
        "            scale=scale\n",
        "        )\n",
        "\n",
        "        # Ambil hasil ekstraksi\n",
        "        try:\n",
        "            extracted_values = extracted_features.getInfo()\n",
        "            features = extracted_values['features']\n",
        "            data = [feat['properties'] for feat in features]\n",
        "            all_results.extend(data)\n",
        "        except Exception as e:\n",
        "            print(f\"Error pada kelompok {i+1}: {str(e)}\")\n",
        "            continue\n",
        "\n",
        "    return all_results"
      ],
      "metadata": {
        "colab": {
          "base_uri": "https://localhost:8080/",
          "height": 17
        },
        "id": "RK2jFTZPuOR8",
        "outputId": "4a631439-f62d-470a-c8a9-00d28c446b02"
      },
      "execution_count": null,
      "outputs": [
        {
          "output_type": "display_data",
          "data": {
            "text/plain": [
              "<IPython.core.display.HTML object>"
            ],
            "text/html": [
              "\n",
              "            <style>\n",
              "                .geemap-dark {\n",
              "                    --jp-widgets-color: white;\n",
              "                    --jp-widgets-label-color: white;\n",
              "                    --jp-ui-font-color1: white;\n",
              "                    --jp-layout-color2: #454545;\n",
              "                    background-color: #383838;\n",
              "                }\n",
              "\n",
              "                .geemap-dark .jupyter-button {\n",
              "                    --jp-layout-color3: #383838;\n",
              "                }\n",
              "\n",
              "                .geemap-colab {\n",
              "                    background-color: var(--colab-primary-surface-color, white);\n",
              "                }\n",
              "\n",
              "                .geemap-colab .jupyter-button {\n",
              "                    --jp-layout-color3: var(--colab-primary-surface-color, white);\n",
              "                }\n",
              "            </style>\n",
              "            "
            ]
          },
          "metadata": {}
        }
      ]
    },
    {
      "cell_type": "code",
      "execution_count": null,
      "metadata": {
        "colab": {
          "base_uri": "https://localhost:8080/",
          "height": 17
        },
        "outputId": "d390f0e0-e220-45a1-d5b0-86841924c447",
        "id": "GLsMtKWXt9XO"
      },
      "outputs": [
        {
          "output_type": "display_data",
          "data": {
            "text/plain": [
              "<IPython.core.display.HTML object>"
            ],
            "text/html": [
              "\n",
              "            <style>\n",
              "                .geemap-dark {\n",
              "                    --jp-widgets-color: white;\n",
              "                    --jp-widgets-label-color: white;\n",
              "                    --jp-ui-font-color1: white;\n",
              "                    --jp-layout-color2: #454545;\n",
              "                    background-color: #383838;\n",
              "                }\n",
              "\n",
              "                .geemap-dark .jupyter-button {\n",
              "                    --jp-layout-color3: #383838;\n",
              "                }\n",
              "\n",
              "                .geemap-colab {\n",
              "                    background-color: var(--colab-primary-surface-color, white);\n",
              "                }\n",
              "\n",
              "                .geemap-colab .jupyter-button {\n",
              "                    --jp-layout-color3: var(--colab-primary-surface-color, white);\n",
              "                }\n",
              "            </style>\n",
              "            "
            ]
          },
          "metadata": {}
        }
      ],
      "source": [
        "    # Simpan hasil ekstraksi\n",
        "    data = [feat['properties'] for feat in features]\n",
        "    all_results.extend(data)"
      ]
    },
    {
      "cell_type": "code",
      "execution_count": null,
      "metadata": {
        "colab": {
          "base_uri": "https://localhost:8080/",
          "height": 17
        },
        "outputId": "481f4903-094e-4ad4-d64d-7c4e7047600d",
        "id": "GM6z7vOyt9XP"
      },
      "outputs": [
        {
          "output_type": "display_data",
          "data": {
            "text/plain": [
              "<IPython.core.display.HTML object>"
            ],
            "text/html": [
              "\n",
              "            <style>\n",
              "                .geemap-dark {\n",
              "                    --jp-widgets-color: white;\n",
              "                    --jp-widgets-label-color: white;\n",
              "                    --jp-ui-font-color1: white;\n",
              "                    --jp-layout-color2: #454545;\n",
              "                    background-color: #383838;\n",
              "                }\n",
              "\n",
              "                .geemap-dark .jupyter-button {\n",
              "                    --jp-layout-color3: #383838;\n",
              "                }\n",
              "\n",
              "                .geemap-colab {\n",
              "                    background-color: var(--colab-primary-surface-color, white);\n",
              "                }\n",
              "\n",
              "                .geemap-colab .jupyter-button {\n",
              "                    --jp-layout-color3: var(--colab-primary-surface-color, white);\n",
              "                }\n",
              "            </style>\n",
              "            "
            ]
          },
          "metadata": {}
        }
      ],
      "source": [
        "# Konversi hasil ekstraksi ke pandas DataFrame\n",
        "df = pd.DataFrame(all_results)"
      ]
    },
    {
      "cell_type": "code",
      "execution_count": null,
      "metadata": {
        "colab": {
          "base_uri": "https://localhost:8080/",
          "height": 17
        },
        "outputId": "cfe4c1b0-bfa1-49d1-946e-81b1a60005fe",
        "id": "p2K9Jbr8t9XP"
      },
      "outputs": [
        {
          "output_type": "display_data",
          "data": {
            "text/plain": [
              "<IPython.core.display.HTML object>"
            ],
            "text/html": [
              "\n",
              "            <style>\n",
              "                .geemap-dark {\n",
              "                    --jp-widgets-color: white;\n",
              "                    --jp-widgets-label-color: white;\n",
              "                    --jp-ui-font-color1: white;\n",
              "                    --jp-layout-color2: #454545;\n",
              "                    background-color: #383838;\n",
              "                }\n",
              "\n",
              "                .geemap-dark .jupyter-button {\n",
              "                    --jp-layout-color3: #383838;\n",
              "                }\n",
              "\n",
              "                .geemap-colab {\n",
              "                    background-color: var(--colab-primary-surface-color, white);\n",
              "                }\n",
              "\n",
              "                .geemap-colab .jupyter-button {\n",
              "                    --jp-layout-color3: var(--colab-primary-surface-color, white);\n",
              "                }\n",
              "            </style>\n",
              "            "
            ]
          },
          "metadata": {}
        }
      ],
      "source": [
        "# Simpan DataFrame ke CSV\n",
        "output_csv_path = '/content/drive/MyDrive/Research/Dataset training dataaaaa.csv'  # Sesuaikan dengan path yang diinginkan\n",
        "df.to_csv(output_csv_path, index=False)"
      ]
    },
    {
      "cell_type": "code",
      "execution_count": null,
      "metadata": {
        "colab": {
          "base_uri": "https://localhost:8080/",
          "height": 596
        },
        "outputId": "9231e36c-dc55-4761-e1bb-d2180a447585",
        "id": "Ff9VdCsFt9XP"
      },
      "outputs": [
        {
          "output_type": "display_data",
          "data": {
            "text/plain": [
              "<IPython.core.display.HTML object>"
            ],
            "text/html": [
              "\n",
              "            <style>\n",
              "                .geemap-dark {\n",
              "                    --jp-widgets-color: white;\n",
              "                    --jp-widgets-label-color: white;\n",
              "                    --jp-ui-font-color1: white;\n",
              "                    --jp-layout-color2: #454545;\n",
              "                    background-color: #383838;\n",
              "                }\n",
              "\n",
              "                .geemap-dark .jupyter-button {\n",
              "                    --jp-layout-color3: #383838;\n",
              "                }\n",
              "\n",
              "                .geemap-colab {\n",
              "                    background-color: var(--colab-primary-surface-color, white);\n",
              "                }\n",
              "\n",
              "                .geemap-colab .jupyter-button {\n",
              "                    --jp-layout-color3: var(--colab-primary-surface-color, white);\n",
              "                }\n",
              "            </style>\n",
              "            "
            ]
          },
          "metadata": {}
        },
        {
          "output_type": "stream",
          "name": "stdout",
          "text": [
            "File CSV telah disimpan di: /content/drive/MyDrive/Research/Dataset training dataaaaa.csv\n",
            "Jumlah baris (records): 3984\n",
            "Dimensi DataFrame (baris, kolom): (3984, 19)\n",
            "\n",
            "Informasi kolom:\n",
            "<class 'pandas.core.frame.DataFrame'>\n",
            "RangeIndex: 3984 entries, 0 to 3983\n",
            "Data columns (total 19 columns):\n",
            " #   Column      Non-Null Count  Dtype  \n",
            "---  ------      --------------  -----  \n",
            " 0   API         3984 non-null   float64\n",
            " 1   A_Foto      3984 non-null   object \n",
            " 2   A_Hst       3984 non-null   int64  \n",
            " 3   A_Jenis_La  3984 non-null   object \n",
            " 4   A_Kecamata  3984 non-null   object \n",
            " 5   A_Lat       3984 non-null   float64\n",
            " 6   A_Lng       3984 non-null   float64\n",
            " 7   A_Tgl_Kunj  3984 non-null   object \n",
            " 8   A_Tgl_Tana  3984 non-null   object \n",
            " 9   A_Varietas  3984 non-null   object \n",
            " 10  Bulan       3984 non-null   object \n",
            " 11  NDPI        3984 non-null   float64\n",
            " 12  RPI         3984 non-null   float64\n",
            " 13  RVI         3984 non-null   float64\n",
            " 14  VH_int      3984 non-null   float64\n",
            " 15  VV_int      3984 non-null   float64\n",
            " 16  angle       3984 non-null   float64\n",
            " 17  date        3984 non-null   object \n",
            " 18  sampel      3984 non-null   int64  \n",
            "dtypes: float64(9), int64(2), object(8)\n",
            "memory usage: 591.5+ KB\n",
            "None\n"
          ]
        }
      ],
      "source": [
        "# Menampilkan informasi tentang penyimpanan file\n",
        "print(f\"File CSV telah disimpan di: {output_csv_path}\")\n",
        "\n",
        "# Menampilkan ukuran DataFrame\n",
        "print(f\"Jumlah baris (records): {len(df)}\")\n",
        "print(f\"Dimensi DataFrame (baris, kolom): {df.shape}\")\n",
        "\n",
        "# Menampilkan informasi kolom dan tipe data\n",
        "print(\"\\nInformasi kolom:\")\n",
        "print(df.info())\n",
        "\n",
        "# # Menampilkan statistik deskriptif untuk kolom numerik\n",
        "# print(\"\\nStatistik deskriptif:\")\n",
        "# print(df.describe())"
      ]
    }
  ],
  "metadata": {
    "colab": {
      "collapsed_sections": [
        "gj2B1Fx228Wx",
        "3FxD1YGB-GJ7",
        "nhLrs8QAJVDM"
      ],
      "provenance": [],
      "mount_file_id": "1447rqActE_2hO2aezGXFqvZ-lEw-qVTi",
      "authorship_tag": "ABX9TyO75Ts7wqghXgYOZC3CySJH",
      "include_colab_link": true
    },
    "kernelspec": {
      "display_name": "Python 3",
      "name": "python3"
    },
    "language_info": {
      "name": "python"
    },
    "vp": {
      "vp_note_display": false,
      "vp_note_width": 0,
      "vp_position": {
        "width": 278
      },
      "vp_section_display": false
    }
  },
  "nbformat": 4,
  "nbformat_minor": 0
}